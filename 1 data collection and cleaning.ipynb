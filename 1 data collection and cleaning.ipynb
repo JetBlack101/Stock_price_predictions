{
 "cells": [
  {
   "cell_type": "markdown",
   "metadata": {},
   "source": [
    "# Data collection and cleaning"
   ]
  },
  {
   "cell_type": "code",
   "execution_count": 72,
   "metadata": {
    "ExecuteTime": {
     "end_time": "2020-10-12T07:19:08.269792Z",
     "start_time": "2020-10-12T07:19:08.253803Z"
    }
   },
   "outputs": [],
   "source": [
    "# Importing key libraries\n",
    "import numpy as np\n",
    "import pandas as pd"
   ]
  },
  {
   "cell_type": "code",
   "execution_count": 73,
   "metadata": {},
   "outputs": [],
   "source": [
    "# Downloading data from local folders \n",
    "xtb = pd.read_csv(\"Data/Raw/xtb_d.csv\", index_col=\"Data\", parse_dates=True)\n",
    "wig = pd.read_csv(\"Data/Raw/wig_d.csv\", index_col=\"Data\", parse_dates=True)\n",
    "spx = pd.read_csv(\"Data/Raw/^spx_d.csv\", index_col=\"Data\", parse_dates=True)\n",
    "gld = pd.read_csv(\"Data/Raw/gc_f_d.csv\", index_col=\"Data\", parse_dates=True)\n",
    "oil = pd.read_csv(\"Data/Raw/cl_f_d.csv\", index_col=\"Data\", parse_dates=True)\n",
    "usd = pd.read_csv(\"Data/Raw/usdeur_d.csv\", index_col=\"Data\", parse_dates=True)\n",
    "vix = pd.read_csv(\"Data/Raw/^VIX.csv\", index_col=\"Date\", parse_dates=True)"
   ]
  },
  {
   "cell_type": "raw",
   "metadata": {},
   "source": [
    "# The online source is the best for updated datasets \n",
    "\n",
    "xtb = pd.read_csv(\"https://stooq.pl/q/d/l/?s=xtb&i=d&o=1111111\", index_col=\"Data\", parse_dates=True)\n",
    "wig = pd.read_csv(\"https://stooq.pl/q/d/l/?s=wig&i=d&o=1111111\", index_col=\"Data\", parse_dates=True)\n",
    "spx = pd.read_csv(\"https://stooq.pl/q/d/l/?s=^spx&i=d&o=1111111\", index_col=\"Data\", parse_dates=True)\n",
    "gld = pd.read_csv(\"https://stooq.pl/q/d/l/?s=gc.f&i=d&o=1111111\", index_col=\"Data\", parse_dates=True)\n",
    "oil = pd.read_csv(\"https://stooq.pl/q/d/l/?s=cl.f&i=d&o=1111111\", index_col=\"Data\", parse_dates=True)\n",
    "usd = pd.read_csv(\"https://stooq.pl/q/d/l/?s=usdeur&i=d&o=1111111\", index_col=\"Data\", parse_dates=True)\n",
    "vix = pd.read_csv(\"https://stooq.pl/q/d/?s=vix20.f\", index_col=\"Date\", parse_dates=True)\n",
    "\n",
    "#Unfortunately the major datasource has a limited timescale for VI, \n",
    "#it is recommended to use yahoo finance instead\n",
    "\n",
    "#vix = pd.read_csv(\"https://query1.finance.yahoo.com/v7/finance/download/%5EVIX?period1=1444694400\"\n",
    "#                  +\"&period2=1602547200&interval=1d&events=history&includeAdjustedClose=true\", \n",
    "#                  index_col=\"Date\", parse_dates=True)"
   ]
  },
  {
   "cell_type": "code",
   "execution_count": 74,
   "metadata": {
    "ExecuteTime": {
     "end_time": "2020-10-12T07:19:12.823599Z",
     "start_time": "2020-10-12T07:19:12.624714Z"
    }
   },
   "outputs": [
    {
     "data": {
      "text/html": [
       "<div>\n",
       "<style scoped>\n",
       "    .dataframe tbody tr th:only-of-type {\n",
       "        vertical-align: middle;\n",
       "    }\n",
       "\n",
       "    .dataframe tbody tr th {\n",
       "        vertical-align: top;\n",
       "    }\n",
       "\n",
       "    .dataframe thead th {\n",
       "        text-align: right;\n",
       "    }\n",
       "</style>\n",
       "<table border=\"1\" class=\"dataframe\">\n",
       "  <thead>\n",
       "    <tr style=\"text-align: right;\">\n",
       "      <th></th>\n",
       "      <th>xtb</th>\n",
       "      <th>wig</th>\n",
       "      <th>spx</th>\n",
       "      <th>gld</th>\n",
       "      <th>oil</th>\n",
       "      <th>usd</th>\n",
       "      <th>vix</th>\n",
       "    </tr>\n",
       "  </thead>\n",
       "  <tbody>\n",
       "    <tr>\n",
       "      <th>2016-05-06</th>\n",
       "      <td>12.05066</td>\n",
       "      <td>46663.67</td>\n",
       "      <td>2057.14</td>\n",
       "      <td>1290.55</td>\n",
       "      <td>44.61</td>\n",
       "      <td>0.87711</td>\n",
       "      <td>14.72</td>\n",
       "    </tr>\n",
       "    <tr>\n",
       "      <th>2016-05-09</th>\n",
       "      <td>12.00021</td>\n",
       "      <td>46628.94</td>\n",
       "      <td>2058.69</td>\n",
       "      <td>1265.00</td>\n",
       "      <td>43.27</td>\n",
       "      <td>0.87860</td>\n",
       "      <td>14.57</td>\n",
       "    </tr>\n",
       "    <tr>\n",
       "      <th>2016-05-10</th>\n",
       "      <td>11.94016</td>\n",
       "      <td>46178.72</td>\n",
       "      <td>2084.39</td>\n",
       "      <td>1267.45</td>\n",
       "      <td>44.52</td>\n",
       "      <td>0.87946</td>\n",
       "      <td>13.63</td>\n",
       "    </tr>\n",
       "    <tr>\n",
       "      <th>2016-05-11</th>\n",
       "      <td>12.05066</td>\n",
       "      <td>46053.07</td>\n",
       "      <td>2064.46</td>\n",
       "      <td>1278.80</td>\n",
       "      <td>45.99</td>\n",
       "      <td>0.87524</td>\n",
       "      <td>14.69</td>\n",
       "    </tr>\n",
       "    <tr>\n",
       "      <th>2016-05-12</th>\n",
       "      <td>12.15035</td>\n",
       "      <td>46022.02</td>\n",
       "      <td>2064.11</td>\n",
       "      <td>1264.75</td>\n",
       "      <td>46.44</td>\n",
       "      <td>0.87911</td>\n",
       "      <td>14.41</td>\n",
       "    </tr>\n",
       "  </tbody>\n",
       "</table>\n",
       "</div>"
      ],
      "text/plain": [
       "                 xtb       wig      spx      gld    oil      usd    vix\n",
       "2016-05-06  12.05066  46663.67  2057.14  1290.55  44.61  0.87711  14.72\n",
       "2016-05-09  12.00021  46628.94  2058.69  1265.00  43.27  0.87860  14.57\n",
       "2016-05-10  11.94016  46178.72  2084.39  1267.45  44.52  0.87946  13.63\n",
       "2016-05-11  12.05066  46053.07  2064.46  1278.80  45.99  0.87524  14.69\n",
       "2016-05-12  12.15035  46022.02  2064.11  1264.75  46.44  0.87911  14.41"
      ]
     },
     "execution_count": 74,
     "metadata": {},
     "output_type": "execute_result"
    }
   ],
   "source": [
    "# constructing the dataset\n",
    "dataset = pd.concat([xtb[\"Zamkniecie\"], \n",
    "                     wig[\"Zamkniecie\"], \n",
    "                     spx[\"Zamkniecie\"], \n",
    "                     gld[\"Zamkniecie\"], \n",
    "                     oil[\"Zamkniecie\"], \n",
    "                     usd[\"Zamkniecie\"], \n",
    "                     vix[\"Close\"]], axis=1).dropna()\n",
    "\n",
    "dataset.columns = [\"xtb\", \"wig\", \"spx\", \"gld\", \"oil\", \"usd\", \"vix\"]\n",
    "dataset.head()"
   ]
  },
  {
   "cell_type": "code",
   "execution_count": 65,
   "metadata": {
    "ExecuteTime": {
     "end_time": "2020-10-12T07:19:12.854580Z",
     "start_time": "2020-10-12T07:19:12.827598Z"
    }
   },
   "outputs": [],
   "source": [
    "# Saving the most recent features\n",
    "tommorow = dataset.iloc[-1][1:]"
   ]
  },
  {
   "cell_type": "code",
   "execution_count": 66,
   "metadata": {},
   "outputs": [
    {
     "name": "stdout",
     "output_type": "stream",
     "text": [
      "<class 'pandas.core.frame.DataFrame'>\n",
      "DatetimeIndex: 1064 entries, 2016-05-06 to 2020-10-12\n",
      "Data columns (total 7 columns):\n",
      " #   Column  Non-Null Count  Dtype  \n",
      "---  ------  --------------  -----  \n",
      " 0   xtb     1064 non-null   float64\n",
      " 1   wig     1064 non-null   float64\n",
      " 2   spx     1064 non-null   float64\n",
      " 3   gld     1064 non-null   float64\n",
      " 4   oil     1064 non-null   float64\n",
      " 5   usd     1064 non-null   float64\n",
      " 6   vix     1064 non-null   float64\n",
      "dtypes: float64(7)\n",
      "memory usage: 66.5 KB\n"
     ]
    }
   ],
   "source": [
    "# Quick look on data quality\n",
    "dataset.info()"
   ]
  },
  {
   "cell_type": "code",
   "execution_count": 67,
   "metadata": {},
   "outputs": [
    {
     "data": {
      "text/plain": [
       "wig    48938.01000\n",
       "spx     3534.22000\n",
       "gld     1927.50000\n",
       "oil       39.50000\n",
       "usd        0.84653\n",
       "vix       25.07000\n",
       "Name: 2020-10-12 00:00:00, dtype: float64"
      ]
     },
     "execution_count": 67,
     "metadata": {},
     "output_type": "execute_result"
    }
   ],
   "source": [
    "tommorow"
   ]
  },
  {
   "cell_type": "code",
   "execution_count": 61,
   "metadata": {},
   "outputs": [],
   "source": [
    "# The data looks OK, no cleaning is needed,we can save the dataset\n",
    "\n",
    "dataset.to_csv(\"Data/Processed/dataset.csv\")\n",
    "tommorow.to_csv(\"Data/Processed/tomorrow.csv\")"
   ]
  }
 ],
 "metadata": {
  "kernelspec": {
   "display_name": "Python 3",
   "language": "python",
   "name": "python3"
  },
  "language_info": {
   "codemirror_mode": {
    "name": "ipython",
    "version": 3
   },
   "file_extension": ".py",
   "mimetype": "text/x-python",
   "name": "python",
   "nbconvert_exporter": "python",
   "pygments_lexer": "ipython3",
   "version": "3.8.5"
  },
  "varInspector": {
   "cols": {
    "lenName": 16,
    "lenType": 16,
    "lenVar": 40
   },
   "kernels_config": {
    "python": {
     "delete_cmd_postfix": "",
     "delete_cmd_prefix": "del ",
     "library": "var_list.py",
     "varRefreshCmd": "print(var_dic_list())"
    },
    "r": {
     "delete_cmd_postfix": ") ",
     "delete_cmd_prefix": "rm(",
     "library": "var_list.r",
     "varRefreshCmd": "cat(var_dic_list()) "
    }
   },
   "position": {
    "height": "608.4px",
    "left": "1156px",
    "right": "20px",
    "top": "120px",
    "width": "360px"
   },
   "types_to_exclude": [
    "module",
    "function",
    "builtin_function_or_method",
    "instance",
    "_Feature"
   ],
   "window_display": false
  }
 },
 "nbformat": 4,
 "nbformat_minor": 4
}
